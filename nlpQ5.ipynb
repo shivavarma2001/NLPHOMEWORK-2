{
  "nbformat": 4,
  "nbformat_minor": 0,
  "metadata": {
    "colab": {
      "provenance": [],
      "authorship_tag": "ABX9TyOPDghfJLghZAkXS0t6BC8l",
      "include_colab_link": true
    },
    "kernelspec": {
      "name": "python3",
      "display_name": "Python 3"
    },
    "language_info": {
      "name": "python"
    }
  },
  "cells": [
    {
      "cell_type": "markdown",
      "metadata": {
        "id": "view-in-github",
        "colab_type": "text"
      },
      "source": [
        "<a href=\"https://colab.research.google.com/github/shivavarma2001/NLPHOMEWORK-2/blob/main/nlpQ5.ipynb\" target=\"_parent\"><img src=\"https://colab.research.google.com/assets/colab-badge.svg\" alt=\"Open In Colab\"/></a>"
      ]
    },
    {
      "cell_type": "code",
      "execution_count": 1,
      "metadata": {
        "colab": {
          "base_uri": "https://localhost:8080/"
        },
        "id": "ewKh8I1IrK4j",
        "outputId": "1ae044b7-d385-4306-ff48-50b087fd1bc1"
      },
      "outputs": [
        {
          "output_type": "stream",
          "name": "stdout",
          "text": [
            "Cat: Precision = 0.250, Recall = 0.250\n",
            "Dog: Precision = 0.444, Recall = 0.444\n",
            "Rabbit: Precision = 0.400, Recall = 0.400\n",
            "\n",
            "Macro Precision = 0.365, Macro Recall = 0.365\n",
            "Micro Precision = 0.389, Micro Recall = 0.389\n"
          ]
        }
      ],
      "source": [
        "import numpy as np\n",
        "\n",
        "# Confusion matrix\n",
        "conf_matrix = np.array([\n",
        "    [5, 10, 5],\n",
        "    [15, 20, 10],\n",
        "    [0, 15, 10]\n",
        "])\n",
        "\n",
        "classes = [\"Cat\", \"Dog\", \"Rabbit\"]\n",
        "\n",
        "# Per-class metrics\n",
        "precisions, recalls = [], []\n",
        "\n",
        "for i, cls in enumerate(classes):\n",
        "    TP = conf_matrix[i, i]\n",
        "    FP = conf_matrix[i, :].sum() - TP\n",
        "    FN = conf_matrix[:, i].sum() - TP\n",
        "\n",
        "    precision = TP / (TP + FP) if (TP + FP) > 0 else 0\n",
        "    recall = TP / (TP + FN) if (TP + FN) > 0 else 0\n",
        "\n",
        "    precisions.append(precision)\n",
        "    recalls.append(recall)\n",
        "\n",
        "    print(f\"{cls}: Precision = {precision:.3f}, Recall = {recall:.3f}\")\n",
        "\n",
        "# Macro averages\n",
        "macro_precision = np.mean(precisions)\n",
        "macro_recall = np.mean(recalls)\n",
        "\n",
        "# Micro averages\n",
        "TP_total = np.trace(conf_matrix)\n",
        "FP_total = conf_matrix.sum(axis=1).sum() - TP_total - conf_matrix.sum(axis=0).sum() + TP_total\n",
        "# Actually easier way:\n",
        "FP_total = (conf_matrix.sum(axis=1) - np.diag(conf_matrix)).sum()\n",
        "FN_total = (conf_matrix.sum(axis=0) - np.diag(conf_matrix)).sum()\n",
        "\n",
        "micro_precision = TP_total / (TP_total + FP_total)\n",
        "micro_recall = TP_total / (TP_total + FN_total)\n",
        "\n",
        "print(f\"\\nMacro Precision = {macro_precision:.3f}, Macro Recall = {macro_recall:.3f}\")\n",
        "print(f\"Micro Precision = {micro_precision:.3f}, Micro Recall = {micro_recall:.3f}\")"
      ]
    }
  ]
}