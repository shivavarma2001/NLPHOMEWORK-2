{
  "nbformat": 4,
  "nbformat_minor": 0,
  "metadata": {
    "colab": {
      "provenance": [],
      "authorship_tag": "ABX9TyM1RncEe9i2sar3g0/YDSwF",
      "include_colab_link": true
    },
    "kernelspec": {
      "name": "python3",
      "display_name": "Python 3"
    },
    "language_info": {
      "name": "python"
    }
  },
  "cells": [
    {
      "cell_type": "markdown",
      "metadata": {
        "id": "view-in-github",
        "colab_type": "text"
      },
      "source": [
        "<a href=\"https://colab.research.google.com/github/shivavarma2001/NLPHOMEWORK-2/blob/main/Nlp_Bigram_Language.ipynb\" target=\"_parent\"><img src=\"https://colab.research.google.com/assets/colab-badge.svg\" alt=\"Open In Colab\"/></a>"
      ]
    },
    {
      "cell_type": "code",
      "execution_count": 1,
      "metadata": {
        "colab": {
          "base_uri": "https://localhost:8080/"
        },
        "id": "oqmSJQeMr4OD",
        "outputId": "107895e1-f0dc-48bc-e6b1-f85e246fac92"
      },
      "outputs": [
        {
          "output_type": "stream",
          "name": "stdout",
          "text": [
            "Unigram counts: {'': 6, 'I': 2, 'love': 2, 'NLP': 1, 'deep': 2, 'learning': 2, 'is': 1, 'fun': 1}\n",
            "Bigram counts: {('', 'I'): 2, ('I', 'love'): 2, ('love', 'NLP'): 1, ('NLP', ''): 1, ('love', 'deep'): 1, ('deep', 'learning'): 2, ('learning', ''): 1, ('', 'deep'): 1, ('learning', 'is'): 1, ('is', 'fun'): 1, ('fun', ''): 1}\n",
            "\n",
            "Sample bigram probabilities:\n",
            "P(I | ) = 0.3333333333333333\n",
            "P(love | I) = 1.0\n",
            "P(NLP | love) = 0.5\n",
            "\n",
            "Sentence probabilities:\n",
            "P( I love NLP ) = 0.16666666666666666\n",
            "P( I love deep learning ) = 0.08333333333333333\n",
            "\n",
            "Model prefers:  I love NLP  because it has higher probability.\n"
          ]
        }
      ],
      "source": [
        "from collections import defaultdict\n",
        "\n",
        "# Training corpus\n",
        "corpus = [\n",
        "    [\"\", \"I\", \"love\", \"NLP\", \"\"],\n",
        "    [\"\", \"I\", \"love\", \"deep\", \"learning\", \"\"],\n",
        "    [\"\", \"deep\", \"learning\", \"is\", \"fun\", \"\"]\n",
        "]\n",
        "\n",
        "# Step 1: Compute unigram and bigram counts\n",
        "unigram_counts = defaultdict(int)\n",
        "bigram_counts = defaultdict(int)\n",
        "\n",
        "for sentence in corpus:\n",
        "    for i in range(len(sentence)):\n",
        "        unigram_counts[sentence[i]] += 1\n",
        "        if i > 0:\n",
        "            bigram_counts[(sentence[i-1], sentence[i])] += 1\n",
        "\n",
        "print(\"Unigram counts:\", dict(unigram_counts))\n",
        "print(\"Bigram counts:\", dict(bigram_counts))\n",
        "\n",
        "# Step 2: Estimate bigram probabilities using MLE\n",
        "def bigram_prob(w1, w2):\n",
        "    return bigram_counts[(w1, w2)] / unigram_counts[w1] if unigram_counts[w1] > 0 else 0\n",
        "\n",
        "print(\"\\nSample bigram probabilities:\")\n",
        "print(\"P(I | ) =\", bigram_prob(\"\", \"I\"))\n",
        "print(\"P(love | I) =\", bigram_prob(\"I\", \"love\"))\n",
        "print(\"P(NLP | love) =\", bigram_prob(\"love\", \"NLP\"))\n",
        "\n",
        "# Step 3: Function to compute sentence probability\n",
        "def sentence_prob(sentence):\n",
        "    prob = 1.0\n",
        "    for i in range(1, len(sentence)):\n",
        "        p = bigram_prob(sentence[i-1], sentence[i])\n",
        "        prob *= p\n",
        "    return prob\n",
        "\n",
        "# Step 4: Test the function\n",
        "s1 = [\"\", \"I\", \"love\", \"NLP\", \"\"]\n",
        "s2 = [\"\", \"I\", \"love\", \"deep\", \"learning\", \"\"]\n",
        "\n",
        "p1 = sentence_prob(s1)\n",
        "p2 = sentence_prob(s2)\n",
        "\n",
        "print(\"\\nSentence probabilities:\")\n",
        "print(\"P( I love NLP ) =\", p1)\n",
        "print(\"P( I love deep learning ) =\", p2)\n",
        "\n",
        "# Step 5: Decide which sentence the model prefers\n",
        "if p1 > p2:\n",
        "    print(\"\\nModel prefers:  I love NLP  because it has higher probability.\")\n",
        "else:\n",
        "    print(\"\\nModel prefers:  I love deep learning  because it has higher probability.\")"
      ]
    }
  ]
}